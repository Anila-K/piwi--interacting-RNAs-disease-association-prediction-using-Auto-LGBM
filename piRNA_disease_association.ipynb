{
  "cells": [
    {
      "cell_type": "code",
      "execution_count": null,
      "metadata": {
        "id": "enDrYmSVhXZ-",
        "colab": {
          "base_uri": "https://localhost:8080/"
        },
        "outputId": "3358045c-c9e2-4981-d37e-e1aacdad2428"
      },
      "outputs": [
        {
          "output_type": "stream",
          "name": "stdout",
          "text": [
            "Mounted at /content/drive\n"
          ]
        }
      ],
      "source": [
        "from google.colab import drive\n",
        "drive.mount('/content/drive')"
      ]
    },
    {
      "cell_type": "code",
      "execution_count": null,
      "metadata": {
        "id": "qCHHnjvs6yNr",
        "colab": {
          "base_uri": "https://localhost:8080/"
        },
        "outputId": "75a493bd-0b26-4fa2-e5ca-54d8e55aaf12"
      },
      "outputs": [
        {
          "output_type": "stream",
          "name": "stdout",
          "text": [
            "Requirement already satisfied: keras in /usr/local/lib/python3.10/dist-packages (2.15.0)\n",
            "Collecting keras\n",
            "  Downloading keras-3.0.2-py3-none-any.whl (1.0 MB)\n",
            "\u001b[2K     \u001b[90m━━━━━━━━━━━━━━━━━━━━━━━━━━━━━━━━━━━━━━━━\u001b[0m \u001b[32m1.0/1.0 MB\u001b[0m \u001b[31m3.8 MB/s\u001b[0m eta \u001b[36m0:00:00\u001b[0m\n",
            "\u001b[?25hRequirement already satisfied: tensorflow in /usr/local/lib/python3.10/dist-packages (2.15.0)\n",
            "Collecting tensorflow\n",
            "  Downloading tensorflow-2.15.0.post1-cp310-cp310-manylinux_2_17_x86_64.manylinux2014_x86_64.whl (475.2 MB)\n",
            "\u001b[2K     \u001b[90m━━━━━━━━━━━━━━━━━━━━━━━━━━━━━━━━━━━━━━━━\u001b[0m \u001b[32m475.2/475.2 MB\u001b[0m \u001b[31m2.9 MB/s\u001b[0m eta \u001b[36m0:00:00\u001b[0m\n",
            "\u001b[?25hRequirement already satisfied: absl-py in /usr/local/lib/python3.10/dist-packages (from keras) (1.4.0)\n",
            "Requirement already satisfied: numpy in /usr/local/lib/python3.10/dist-packages (from keras) (1.23.5)\n",
            "Requirement already satisfied: rich in /usr/local/lib/python3.10/dist-packages (from keras) (13.7.0)\n",
            "Collecting namex (from keras)\n",
            "  Downloading namex-0.0.7-py3-none-any.whl (5.8 kB)\n",
            "Requirement already satisfied: h5py in /usr/local/lib/python3.10/dist-packages (from keras) (3.9.0)\n",
            "Requirement already satisfied: dm-tree in /usr/local/lib/python3.10/dist-packages (from keras) (0.1.8)\n",
            "Requirement already satisfied: astunparse>=1.6.0 in /usr/local/lib/python3.10/dist-packages (from tensorflow) (1.6.3)\n",
            "Requirement already satisfied: flatbuffers>=23.5.26 in /usr/local/lib/python3.10/dist-packages (from tensorflow) (23.5.26)\n",
            "Requirement already satisfied: gast!=0.5.0,!=0.5.1,!=0.5.2,>=0.2.1 in /usr/local/lib/python3.10/dist-packages (from tensorflow) (0.5.4)\n",
            "Requirement already satisfied: google-pasta>=0.1.1 in /usr/local/lib/python3.10/dist-packages (from tensorflow) (0.2.0)\n",
            "Requirement already satisfied: libclang>=13.0.0 in /usr/local/lib/python3.10/dist-packages (from tensorflow) (16.0.6)\n",
            "Requirement already satisfied: ml-dtypes~=0.2.0 in /usr/local/lib/python3.10/dist-packages (from tensorflow) (0.2.0)\n",
            "Requirement already satisfied: opt-einsum>=2.3.2 in /usr/local/lib/python3.10/dist-packages (from tensorflow) (3.3.0)\n",
            "Requirement already satisfied: packaging in /usr/local/lib/python3.10/dist-packages (from tensorflow) (23.2)\n",
            "Requirement already satisfied: protobuf!=4.21.0,!=4.21.1,!=4.21.2,!=4.21.3,!=4.21.4,!=4.21.5,<5.0.0dev,>=3.20.3 in /usr/local/lib/python3.10/dist-packages (from tensorflow) (3.20.3)\n",
            "Requirement already satisfied: setuptools in /usr/local/lib/python3.10/dist-packages (from tensorflow) (67.7.2)\n",
            "Requirement already satisfied: six>=1.12.0 in /usr/local/lib/python3.10/dist-packages (from tensorflow) (1.16.0)\n",
            "Requirement already satisfied: termcolor>=1.1.0 in /usr/local/lib/python3.10/dist-packages (from tensorflow) (2.4.0)\n",
            "Requirement already satisfied: typing-extensions>=3.6.6 in /usr/local/lib/python3.10/dist-packages (from tensorflow) (4.5.0)\n",
            "Requirement already satisfied: wrapt<1.15,>=1.11.0 in /usr/local/lib/python3.10/dist-packages (from tensorflow) (1.14.1)\n",
            "Requirement already satisfied: tensorflow-io-gcs-filesystem>=0.23.1 in /usr/local/lib/python3.10/dist-packages (from tensorflow) (0.35.0)\n",
            "Requirement already satisfied: grpcio<2.0,>=1.24.3 in /usr/local/lib/python3.10/dist-packages (from tensorflow) (1.60.0)\n",
            "Requirement already satisfied: tensorboard<2.16,>=2.15 in /usr/local/lib/python3.10/dist-packages (from tensorflow) (2.15.1)\n",
            "Requirement already satisfied: tensorflow-estimator<2.16,>=2.15.0 in /usr/local/lib/python3.10/dist-packages (from tensorflow) (2.15.0)\n",
            "Requirement already satisfied: wheel<1.0,>=0.23.0 in /usr/local/lib/python3.10/dist-packages (from astunparse>=1.6.0->tensorflow) (0.42.0)\n",
            "Requirement already satisfied: google-auth<3,>=1.6.3 in /usr/local/lib/python3.10/dist-packages (from tensorboard<2.16,>=2.15->tensorflow) (2.17.3)\n",
            "Requirement already satisfied: google-auth-oauthlib<2,>=0.5 in /usr/local/lib/python3.10/dist-packages (from tensorboard<2.16,>=2.15->tensorflow) (1.2.0)\n",
            "Requirement already satisfied: markdown>=2.6.8 in /usr/local/lib/python3.10/dist-packages (from tensorboard<2.16,>=2.15->tensorflow) (3.5.1)\n",
            "Requirement already satisfied: requests<3,>=2.21.0 in /usr/local/lib/python3.10/dist-packages (from tensorboard<2.16,>=2.15->tensorflow) (2.31.0)\n",
            "Requirement already satisfied: tensorboard-data-server<0.8.0,>=0.7.0 in /usr/local/lib/python3.10/dist-packages (from tensorboard<2.16,>=2.15->tensorflow) (0.7.2)\n",
            "Requirement already satisfied: werkzeug>=1.0.1 in /usr/local/lib/python3.10/dist-packages (from tensorboard<2.16,>=2.15->tensorflow) (3.0.1)\n",
            "Requirement already satisfied: cachetools<6.0,>=2.0.0 in /usr/local/lib/python3.10/dist-packages (from google-auth<3,>=1.6.3->tensorboard<2.16,>=2.15->tensorflow) (5.3.2)\n",
            "Requirement already satisfied: pyasn1-modules>=0.2.1 in /usr/local/lib/python3.10/dist-packages (from google-auth<3,>=1.6.3->tensorboard<2.16,>=2.15->tensorflow) (0.3.0)\n",
            "Requirement already satisfied: rsa<5,>=3.1.4 in /usr/local/lib/python3.10/dist-packages (from google-auth<3,>=1.6.3->tensorboard<2.16,>=2.15->tensorflow) (4.9)\n",
            "Requirement already satisfied: requests-oauthlib>=0.7.0 in /usr/local/lib/python3.10/dist-packages (from google-auth-oauthlib<2,>=0.5->tensorboard<2.16,>=2.15->tensorflow) (1.3.1)\n",
            "Requirement already satisfied: charset-normalizer<4,>=2 in /usr/local/lib/python3.10/dist-packages (from requests<3,>=2.21.0->tensorboard<2.16,>=2.15->tensorflow) (3.3.2)\n",
            "Requirement already satisfied: idna<4,>=2.5 in /usr/local/lib/python3.10/dist-packages (from requests<3,>=2.21.0->tensorboard<2.16,>=2.15->tensorflow) (3.6)\n",
            "Requirement already satisfied: urllib3<3,>=1.21.1 in /usr/local/lib/python3.10/dist-packages (from requests<3,>=2.21.0->tensorboard<2.16,>=2.15->tensorflow) (2.0.7)\n",
            "Requirement already satisfied: certifi>=2017.4.17 in /usr/local/lib/python3.10/dist-packages (from requests<3,>=2.21.0->tensorboard<2.16,>=2.15->tensorflow) (2023.11.17)\n",
            "Requirement already satisfied: MarkupSafe>=2.1.1 in /usr/local/lib/python3.10/dist-packages (from werkzeug>=1.0.1->tensorboard<2.16,>=2.15->tensorflow) (2.1.3)\n",
            "Requirement already satisfied: pyasn1<0.6.0,>=0.4.6 in /usr/local/lib/python3.10/dist-packages (from pyasn1-modules>=0.2.1->google-auth<3,>=1.6.3->tensorboard<2.16,>=2.15->tensorflow) (0.5.1)\n",
            "Requirement already satisfied: oauthlib>=3.0.0 in /usr/local/lib/python3.10/dist-packages (from requests-oauthlib>=0.7.0->google-auth-oauthlib<2,>=0.5->tensorboard<2.16,>=2.15->tensorflow) (3.2.2)\n",
            "Requirement already satisfied: markdown-it-py>=2.2.0 in /usr/local/lib/python3.10/dist-packages (from rich->keras) (3.0.0)\n",
            "Requirement already satisfied: pygments<3.0.0,>=2.13.0 in /usr/local/lib/python3.10/dist-packages (from rich->keras) (2.16.1)\n",
            "Requirement already satisfied: mdurl~=0.1 in /usr/local/lib/python3.10/dist-packages (from markdown-it-py>=2.2.0->rich->keras) (0.1.2)\n",
            "Installing collected packages: tensorflow\n",
            "  Attempting uninstall: tensorflow\n",
            "    Found existing installation: tensorflow 2.15.0\n",
            "    Uninstalling tensorflow-2.15.0:\n",
            "      Successfully uninstalled tensorflow-2.15.0\n",
            "Successfully installed tensorflow-2.15.0.post1\n"
          ]
        }
      ],
      "source": [
        "!pip install --upgrade keras tensorflow"
      ]
    },
    {
      "cell_type": "code",
      "execution_count": null,
      "metadata": {
        "id": "7sxwpsGh7Wyn",
        "colab": {
          "base_uri": "https://localhost:8080/"
        },
        "outputId": "07263a70-b8ff-4890-e1fd-45469e558438"
      },
      "outputs": [
        {
          "output_type": "stream",
          "name": "stdout",
          "text": [
            "Collecting np_utils\n",
            "  Downloading np_utils-0.6.0.tar.gz (61 kB)\n",
            "\u001b[2K     \u001b[90m━━━━━━━━━━━━━━━━━━━━━━━━━━━━━━━━━━━━━━━━\u001b[0m \u001b[32m62.0/62.0 kB\u001b[0m \u001b[31m735.1 kB/s\u001b[0m eta \u001b[36m0:00:00\u001b[0m\n",
            "\u001b[?25h  Preparing metadata (setup.py) ... \u001b[?25l\u001b[?25hdone\n",
            "Requirement already satisfied: numpy>=1.0 in /usr/local/lib/python3.10/dist-packages (from np_utils) (1.23.5)\n",
            "Building wheels for collected packages: np_utils\n",
            "  Building wheel for np_utils (setup.py) ... \u001b[?25l\u001b[?25hdone\n",
            "  Created wheel for np_utils: filename=np_utils-0.6.0-py3-none-any.whl size=56439 sha256=0ca7c860ac4599952e9767733d380f697ab4d6b96ac797e0b47d040718c4d31e\n",
            "  Stored in directory: /root/.cache/pip/wheels/b6/c7/50/2307607f44366dd021209f660045f8d51cb976514d30be7cc7\n",
            "Successfully built np_utils\n",
            "Installing collected packages: np_utils\n",
            "Successfully installed np_utils-0.6.0\n"
          ]
        }
      ],
      "source": [
        "!pip install np_utils"
      ]
    },
    {
      "cell_type": "code",
      "execution_count": null,
      "metadata": {
        "id": "RetVDvGg7cNC",
        "colab": {
          "base_uri": "https://localhost:8080/"
        },
        "outputId": "e879cfb8-ae9c-4b77-ae88-49f19731c071"
      },
      "outputs": [
        {
          "output_type": "stream",
          "name": "stdout",
          "text": [
            "Collecting generic_utils\n",
            "  Downloading generic_utils-0.20.0-py2.py3-none-any.whl (128 kB)\n",
            "\u001b[2K     \u001b[90m━━━━━━━━━━━━━━━━━━━━━━━━━━━━━━━━━━━━━━━━\u001b[0m \u001b[32m128.6/128.6 kB\u001b[0m \u001b[31m1.3 MB/s\u001b[0m eta \u001b[36m0:00:00\u001b[0m\n",
            "\u001b[?25hRequirement already satisfied: future in /usr/local/lib/python3.10/dist-packages (from generic_utils) (0.18.3)\n",
            "Requirement already satisfied: setuptools in /usr/local/lib/python3.10/dist-packages (from generic_utils) (67.7.2)\n",
            "Requirement already satisfied: six in /usr/local/lib/python3.10/dist-packages (from generic_utils) (1.16.0)\n",
            "Installing collected packages: generic_utils\n",
            "Successfully installed generic_utils-0.20.0\n"
          ]
        }
      ],
      "source": [
        "!pip install generic_utils"
      ]
    },
    {
      "cell_type": "code",
      "execution_count": null,
      "metadata": {
        "id": "ATLY2gUJ9_3g"
      },
      "outputs": [],
      "source": [
        "from keras.utils import to_categorical"
      ]
    },
    {
      "cell_type": "code",
      "source": [
        "!pip install catboost"
      ],
      "metadata": {
        "id": "Q6KHBRQ2yXLr",
        "colab": {
          "base_uri": "https://localhost:8080/"
        },
        "outputId": "4db005d4-4d55-4da3-a147-2d2923907a09"
      },
      "execution_count": null,
      "outputs": [
        {
          "output_type": "stream",
          "name": "stdout",
          "text": [
            "Collecting catboost\n",
            "  Downloading catboost-1.2.2-cp310-cp310-manylinux2014_x86_64.whl (98.7 MB)\n",
            "\u001b[2K     \u001b[90m━━━━━━━━━━━━━━━━━━━━━━━━━━━━━━━━━━━━━━━━\u001b[0m \u001b[32m98.7/98.7 MB\u001b[0m \u001b[31m8.9 MB/s\u001b[0m eta \u001b[36m0:00:00\u001b[0m\n",
            "\u001b[?25hRequirement already satisfied: graphviz in /usr/local/lib/python3.10/dist-packages (from catboost) (0.20.1)\n",
            "Requirement already satisfied: matplotlib in /usr/local/lib/python3.10/dist-packages (from catboost) (3.7.1)\n",
            "Requirement already satisfied: numpy>=1.16.0 in /usr/local/lib/python3.10/dist-packages (from catboost) (1.23.5)\n",
            "Requirement already satisfied: pandas>=0.24 in /usr/local/lib/python3.10/dist-packages (from catboost) (1.5.3)\n",
            "Requirement already satisfied: scipy in /usr/local/lib/python3.10/dist-packages (from catboost) (1.11.4)\n",
            "Requirement already satisfied: plotly in /usr/local/lib/python3.10/dist-packages (from catboost) (5.15.0)\n",
            "Requirement already satisfied: six in /usr/local/lib/python3.10/dist-packages (from catboost) (1.16.0)\n",
            "Requirement already satisfied: python-dateutil>=2.8.1 in /usr/local/lib/python3.10/dist-packages (from pandas>=0.24->catboost) (2.8.2)\n",
            "Requirement already satisfied: pytz>=2020.1 in /usr/local/lib/python3.10/dist-packages (from pandas>=0.24->catboost) (2023.3.post1)\n",
            "Requirement already satisfied: contourpy>=1.0.1 in /usr/local/lib/python3.10/dist-packages (from matplotlib->catboost) (1.2.0)\n",
            "Requirement already satisfied: cycler>=0.10 in /usr/local/lib/python3.10/dist-packages (from matplotlib->catboost) (0.12.1)\n",
            "Requirement already satisfied: fonttools>=4.22.0 in /usr/local/lib/python3.10/dist-packages (from matplotlib->catboost) (4.47.0)\n",
            "Requirement already satisfied: kiwisolver>=1.0.1 in /usr/local/lib/python3.10/dist-packages (from matplotlib->catboost) (1.4.5)\n",
            "Requirement already satisfied: packaging>=20.0 in /usr/local/lib/python3.10/dist-packages (from matplotlib->catboost) (23.2)\n",
            "Requirement already satisfied: pillow>=6.2.0 in /usr/local/lib/python3.10/dist-packages (from matplotlib->catboost) (9.4.0)\n",
            "Requirement already satisfied: pyparsing>=2.3.1 in /usr/local/lib/python3.10/dist-packages (from matplotlib->catboost) (3.1.1)\n",
            "Requirement already satisfied: tenacity>=6.2.0 in /usr/local/lib/python3.10/dist-packages (from plotly->catboost) (8.2.3)\n",
            "Installing collected packages: catboost\n",
            "Successfully installed catboost-1.2.2\n"
          ]
        }
      ]
    },
    {
      "cell_type": "code",
      "execution_count": null,
      "metadata": {
        "id": "5x15BjwY6Rzu"
      },
      "outputs": [],
      "source": [
        "import numpy as np\n",
        "from matplotlib import pyplot\n",
        "from numpy import interp\n",
        "import sklearn, tensorflow\n",
        "from sklearn.preprocessing import LabelEncoder\n",
        "from sklearn.ensemble import RandomForestClassifier\n",
        "from sklearn.ensemble import AdaBoostClassifier\n",
        "from catboost import CatBoostClassifier\n",
        "from lightgbm import LGBMClassifier\n",
        "from sklearn import metrics\n",
        "from sklearn import model_selection\n",
        "from xgboost import XGBClassifier"
      ]
    },
    {
      "cell_type": "code",
      "execution_count": null,
      "metadata": {
        "id": "yjI2aAil6vG3"
      },
      "outputs": [],
      "source": [
        "from sklearn.model_selection import train_test_split\n",
        "from sklearn.metrics import precision_recall_curve\n",
        "from sklearn.metrics import roc_curve, auc\n",
        "import pandas as pd\n",
        "import random\n",
        "from keras.layers import Input, Dense\n",
        "from keras import Model\n",
        "from keras.models import Sequential, model_from_config,Model\n",
        "from keras.layers import  Dropout, Activation, Flatten\n",
        "import np_utils\n",
        "import generic_utils\n",
        "from keras.constraints import MaxNorm"
      ]
    },
    {
      "cell_type": "code",
      "execution_count": null,
      "metadata": {
        "id": "HdYn6s1i80mb"
      },
      "outputs": [],
      "source": [
        "def prepare_data(seperate=False):\n",
        "    print (\"loading data\")   #loading the dataset\n",
        "    disease_sim = np.loadtxt(\"/content/drive/MyDrive/minor project/RNA_S.txt\",dtype=float,delimiter=\"\\t\")  #piRNA similarity data\n",
        "    piRNA_sim  = np.loadtxt(\"/content/drive/MyDrive/minor project/DIS_S.txt\",dtype=float,delimiter=\"\\t\")   #disease similarity data\n",
        "    interaction = np.loadtxt(\"/content/drive/MyDrive/minor project/D_R_A.txt\",dtype=int,delimiter=\"\\t\")    # piRNA - disease association\n",
        "\n",
        "\n",
        "\n",
        "\n",
        "    link_number = 0\n",
        "    train = []\n",
        "    testf= []\n",
        "    label1 = []\n",
        "    label2 = []\n",
        "    label22=[]\n",
        "    ttf=[]\n",
        "    for i in range(0, interaction.shape[0]):   # shape[0] returns m if interaction is m*n, ie, returns no. of rows of matrix\n",
        "        for j in range(0, interaction.shape[1]):  # shape[0] returns no. of columns of matrix\n",
        "\n",
        "            if interaction[i, j] == 1:                      #for associated\n",
        "                label1.append(interaction[i,j])             #label1= labels for association(1)\n",
        "                link_number = link_number + 1               #no. of associated samples\n",
        "                #link_position.append([i, j])\n",
        "                piRNA_sim_tmp = list(piRNA_sim[i])       # piRNA similarity vector for associated samples\n",
        "                disease_sim_tmp = list(disease_sim[j])    # disease similarity vector for associated\n",
        "                tmp_sim = (piRNA_sim_tmp,disease_sim_tmp)   #concatnated feature vector for an association\n",
        "                train.append(tmp_sim)                       #train contains feature vectors of all associated samples\n",
        "            elif interaction[i,j] == 0:                     #for no association\n",
        "                label2.append(interaction[i,j])             #label2= labels for no association(0)\n",
        "                piRNA_sim_tmp1 = list(piRNA_sim[i])\n",
        "                disease_sim_tmp1 = list(disease_sim[j])\n",
        "                test_sim= (piRNA_sim_tmp1,disease_sim_tmp1) #concatenated feature vector for not having association\n",
        "                testf.append(test_sim)                    #testfnl contains feature vectors of all non associated samples\n",
        "    print(len(train))\n",
        "    print('************')\n",
        "    print(len(testf))\n",
        "    #print(link_number)\n",
        "    print(\"link_number\",link_number)   # no. of associated\n",
        "\n",
        "    m = np.arange(len(label2))\n",
        "    np.random.shuffle(m)\n",
        "\n",
        "    for x in m:\n",
        "        ttf.append(testf[x])\n",
        "        label22.append(label2[x])\n",
        "    #print('************')\n",
        "    #print(ttfnl)\n",
        "    #print('************')\n",
        "    #print(label22)\n",
        "    for x in range(0, link_number):                         #for equalizing positive and negative samples\n",
        "        tfnl= ttf[x]                                    #tfnl= feature vector pair for no association\n",
        "        lab= label22[x]                                      #lab= label of the above mentioned feature vector pair(0)\n",
        "        #print(tfnl)\n",
        "        #print('***')\n",
        "        train.append(tfnl)                                  #append the non associated feature vector pairs to train till x<=no. of associated pairs\n",
        "        label1.append(lab)                                   #append the labels of non associated pairs(0) to label1\n",
        "\n",
        "    print(len(train))\n",
        "    print(len(label1))\n",
        "    print(len(testf))\n",
        "    return np.array(train), label1, np.array(testf)\n",
        "\n",
        "\n"
      ]
    },
    {
      "cell_type": "code",
      "source": [
        "def transfer_array_format(data):    #data=X  , X= all the piRNA features, disease features\n",
        "    formated_matrix1 = []\n",
        "    formated_matrix2 = []\n",
        "    for val in data:\n",
        "        formated_matrix1.append(val[0])   #contains piRNA features\n",
        "        formated_matrix2.append(val[1])   #contains disease features\n",
        "    return np.array(formated_matrix1), np.array(formated_matrix2)"
      ],
      "metadata": {
        "id": "B3IkB7IGg1nt"
      },
      "execution_count": null,
      "outputs": []
    },
    {
      "cell_type": "code",
      "source": [
        "def D_auto(x_train):\n",
        "\n",
        "    encoding_dim = 128\n",
        "    input_img = Input(shape=(523,))\n",
        "    encoded = Dense(400, activation='relu')(input_img)   # 400 - output (input layer)\n",
        "    encoded = Dense(300, activation='relu')(encoded)    # 300 - output (hidden layer1)\n",
        "    encoded = Dense(200, activation='relu')(encoded)     # 200 - output (hidden layer2)\n",
        "    encoded = Dense(100, activation='relu')(encoded)    # 100 - output (hidden layer3)\n",
        "    encoder_output = Dense(encoding_dim)(encoded)\n",
        "    #print(encoder_output)\n",
        "# decoder layers\n",
        "    decoded = Dense(175, activation='relu')(encoder_output)\n",
        "    decoded = Dense(200, activation='relu')(decoded)\n",
        "    decoded = Dense(300, activation='relu')(decoded)\n",
        "    decoded = Dense(523, activation='tanh')(decoded)\n",
        "\n",
        "    autoencoder = Model(input_img, decoded)\n",
        "\n",
        "    encoder = Model(input_img,encoder_output)\n",
        "\n",
        "    autoencoder.compile(optimizer='adam', loss='mse')\n",
        "\n",
        "\n",
        "    autoencoder.fit(x_train, x_train,epochs=20,batch_size=100,shuffle=True)\n",
        "    #batch_size=100 original\n",
        "    encoded_imgs = encoder.predict(x_train)\n",
        "\n",
        "    print(\"???????????????????\")\n",
        "    print(encoded_imgs.shape)  #(2424,128)\n",
        "\n",
        "    return encoder_output,encoded_imgs\n",
        "\n",
        "def preprocess_labels(labels, encoder=None, categorical=True):\n",
        "    if not encoder:\n",
        "        encoder = LabelEncoder()\n",
        "        encoder.fit(labels)\n",
        "    y = encoder.transform(labels).astype(np.int32)\n",
        "    if categorical:\n",
        "        y = to_categorical(y)\n",
        "    return y, encoder\n"
      ],
      "metadata": {
        "id": "ZuVv7-_4hBPQ"
      },
      "execution_count": null,
      "outputs": []
    },
    {
      "cell_type": "code",
      "source": [
        "def DeepMDA():\n",
        "    X, labels,T = prepare_data(seperate = True)     #X= array of concatenated features(train data),labels=corresponding labels, T = test data\n",
        "\n",
        "    X_data1, X_data2 = transfer_array_format(X) # X-data1 = disease features (22*22) , X_data2 = piRNA features (501*501)\n",
        "\n",
        "    print(\"************\")\n",
        "    print (X_data1.shape,X_data2.shape)  # (2424,22), (2424,501)\n",
        "    print(\"******************\")\n",
        "\n",
        "\n",
        "    X_data1= np.concatenate((X_data1, X_data2 ), axis = 1) #axis=1 , rowwise concatenation\n",
        "\n",
        "    print(\"************\")\n",
        "    print (X_data1.shape)  # (2424,523)\n",
        "    print(\"******************\")\n",
        "\n",
        "    y, encoder = preprocess_labels(labels)# labels labels_new\n",
        "    print(len(y))\n",
        "    num = np.arange(len(y))   #num gets an array like num = [0,1,2...len(y)], len(y) = 501*22 = 36352\n",
        "    #print(num)\n",
        "    np.random.shuffle(num)\n",
        "    X_data1 = X_data1[num]\n",
        "    #X_data2 = X_data2[num]\n",
        "    y = y[num]\n",
        "\n",
        "    t=0\n",
        "    mean_tpr = 0.0\n",
        "    mean_fpr = np.linspace(0, 1, 100)\n",
        "\n",
        "    encoder,X_data1 = D_auto(X_data1)\n",
        "\n",
        "    num_cross_val = 5\n",
        "    all_performance_LGBM = []\n",
        "    all_labels = []\n",
        "    all_prob = {}\n",
        "    all_prob[0] = []\n",
        "    all_prob[1] = []\n",
        "    all_prob[2] = []\n",
        "    all_prob[3] = []\n",
        "    all_averrage = []\n",
        "    for fold in range(num_cross_val):\n",
        "        train1 = np.array([x for i, x in enumerate(X_data1) if i % num_cross_val != fold])\n",
        "        test1 = np.array([x for i, x in enumerate(X_data1) if i % num_cross_val == fold])\n",
        "        print(len(train1))\n",
        "        print(len(test1))\n",
        "        train_label = np.array([x for i, x in enumerate(y) if i % num_cross_val != fold])\n",
        "        test_label = np.array([x for i, x in enumerate(y) if i % num_cross_val == fold])\n",
        "        #print(test_label)\n",
        "        #print(\"$$$$$$$$$$$$\",test1)\n",
        "        #print(test2)\n",
        "\n",
        "        real_labels = []\n",
        "        for val in test_label:\n",
        "            if val[0] == 1:\n",
        "                real_labels.append(0)\n",
        "            else:\n",
        "                real_labels.append(1)\n",
        "        #print(\"the size of real \",len(real_labels))\n",
        "        train_label_new = []\n",
        "        for val in train_label:\n",
        "            if val[0] == 1:\n",
        "                train_label_new.append(0)\n",
        "            else:\n",
        "                train_label_new.append(1)\n",
        "        prefilter_train = train1\n",
        "        prefilter_test = test1\n",
        "       # print(real_labels)\n",
        "\n",
        "\n",
        "        #clf = RandomForestClassifier(n_estimators=200)\n",
        "        #clf = XGBClassifier(n_estimators = 200, learning_rate = 0.2, max_depth= 15)\n",
        "        clf = LGBMClassifier(n_estimators=  150,num_leaves= 10, learning_rate = 0.2, max_depth= 15)\n",
        "        #clf = AdaBoostClassifier(n_estimators = 200, learning_rate = 0.2,random_state=0)\n",
        "        #clf = CatBoostClassifier(n_estimators = 200, learning_rate = 0.2,random_state=0)\n",
        "\n",
        "\n",
        "        clf.fit(prefilter_train, train_label_new)    #***Training\n",
        "\n",
        "        ae_y_pred_prob = clf.predict_proba(prefilter_test)[:,1]   #**testing\n",
        "\n",
        "        #print(ae_y_pred_prob)\n",
        "\n",
        "        proba = transfer_label_from_prob(ae_y_pred_prob)\n",
        "        #print(proba)\n",
        "        #print(encoder.shape)\n",
        "        #print(X_data1.shape)\n",
        "        #print(X_data2.shape)\n",
        "        acc, precision, sensitivity, specificity, MCC, f1_score = calculate_performace(len(real_labels), proba,  real_labels)\n",
        "\n",
        "        fpr, tpr, auc_thresholds = roc_curve(real_labels, ae_y_pred_prob)\n",
        "        auc_score = auc(fpr, tpr)\n",
        "#        print(\"Length\")\n",
        "#        print(len(real_labels))\n",
        "        ## AUPR score add\n",
        "        precision1, recall, pr_threshods = precision_recall_curve(real_labels, ae_y_pred_prob)\n",
        "        aupr_score = auc(recall, precision1)\n",
        "        print (\"AUTO-LGBM:\",acc, precision, sensitivity, specificity, MCC, auc_score, aupr_score,f1_score)\n",
        "        all_performance_LGBM.append([acc, precision, sensitivity, specificity, MCC, auc_score, aupr_score,f1_score])\n",
        "        t =t+1  #  AUC fold number\n",
        "\n",
        "        pyplot.plot(fpr,tpr,label= 'ROC fold %d (AUC = %0.4f)' % (t, auc_score))\n",
        "        mean_tpr += interp(mean_fpr, fpr, tpr) # one dimensional interpolation\n",
        "        mean_tpr[0] = 0.0\n",
        "\n",
        "        pyplot.xlabel('False positive rate, (1-Specificity)')\n",
        "        pyplot.ylabel('True positive rate,(Sensitivity)')\n",
        "        pyplot.title('Receiver Operating Characteristic curve: 5-Fold CV')\n",
        "        pyplot.legend()\n",
        "\n",
        "    mean_tpr /= num_cross_val\n",
        "    mean_tpr[-1] = 1.0\n",
        "    mean_auc = auc(mean_fpr, mean_tpr)\n",
        "    pyplot.plot(mean_fpr, mean_tpr,'--' ,linewidth=2.5,label='Mean ROC (AUC = %0.4f)' % mean_auc)\n",
        "    pyplot.legend()\n",
        "    pyplot.show()\n",
        "\n",
        "\n",
        "\n",
        "\n",
        "    print('*******AUTO-LGBM*****')\n",
        "    print ('mean performance of LGBM using raw feature')\n",
        "    print (np.mean(np.array(all_performance_LGBM), axis=0))\n",
        "    Mean_Result=[]\n",
        "    Mean_Result= np.mean(np.array(all_performance_LGBM), axis=0)\n",
        "    print ('---' * 20)\n",
        "    print('Mean-Accuracy=', Mean_Result[0],'\\n Mean-precision=',Mean_Result[1])\n",
        "    print('Mean-Sensitivity=', Mean_Result[2], '\\n Mean-Specificity=',Mean_Result[3])\n",
        "    print('Mean-MCC=', Mean_Result[4],'\\n' 'Mean-auc_score=',Mean_Result[5])\n",
        "    print('Mean-Aupr-score=', Mean_Result[6],'\\n' 'Mean_F1=',Mean_Result[7])\n",
        "    print ('---' * 20)\n",
        "\n",
        "    print(X_data1.shape)\n"
      ],
      "metadata": {
        "id": "jKqYUAfdhJJK"
      },
      "execution_count": null,
      "outputs": []
    },
    {
      "cell_type": "code",
      "source": [
        "def transfer_label_from_prob(proba):\n",
        "    label = [1 if val>=0.5 else 0 for val in proba]\n",
        "    return label\n",
        "\n",
        "\n",
        "if __name__==\"__main__\":\n",
        "    DeepMDA()\n"
      ],
      "metadata": {
        "colab": {
          "base_uri": "https://localhost:8080/",
          "height": 1000
        },
        "id": "XMQ1FFu2hYj1",
        "outputId": "bb152289-245a-46a3-ea12-963e732c0e1e"
      },
      "execution_count": null,
      "outputs": [
        {
          "output_type": "stream",
          "name": "stdout",
          "text": [
            "loading data\n",
            "1212\n",
            "************\n",
            "9810\n",
            "link_number 1212\n",
            "2424\n",
            "2424\n",
            "9810\n",
            "************\n",
            "(2424, 22) (2424, 501)\n",
            "******************\n",
            "************\n",
            "(2424, 523)\n",
            "******************\n",
            "2424\n"
          ]
        },
        {
          "output_type": "stream",
          "name": "stderr",
          "text": [
            "<ipython-input-9-d882b22fdb12>:61: VisibleDeprecationWarning: Creating an ndarray from ragged nested sequences (which is a list-or-tuple of lists-or-tuples-or ndarrays with different lengths or shapes) is deprecated. If you meant to do this, you must specify 'dtype=object' when creating the ndarray.\n",
            "  return np.array(train), label1, np.array(testf)\n"
          ]
        },
        {
          "output_type": "stream",
          "name": "stdout",
          "text": [
            "Epoch 1/20\n",
            "25/25 [==============================] - 2s 17ms/step - loss: 0.0370\n",
            "Epoch 2/20\n",
            "25/25 [==============================] - 0s 16ms/step - loss: 0.0196\n",
            "Epoch 3/20\n",
            "25/25 [==============================] - 0s 17ms/step - loss: 0.0140\n",
            "Epoch 4/20\n",
            "25/25 [==============================] - 0s 16ms/step - loss: 0.0110\n",
            "Epoch 5/20\n",
            "25/25 [==============================] - 0s 17ms/step - loss: 0.0088\n",
            "Epoch 6/20\n",
            "25/25 [==============================] - 0s 16ms/step - loss: 0.0074\n",
            "Epoch 7/20\n",
            "25/25 [==============================] - 0s 17ms/step - loss: 0.0066\n",
            "Epoch 8/20\n",
            "25/25 [==============================] - 0s 17ms/step - loss: 0.0057\n",
            "Epoch 9/20\n",
            "25/25 [==============================] - 0s 17ms/step - loss: 0.0052\n",
            "Epoch 10/20\n",
            "25/25 [==============================] - 1s 27ms/step - loss: 0.0047\n",
            "Epoch 11/20\n",
            "25/25 [==============================] - 1s 26ms/step - loss: 0.0043\n",
            "Epoch 12/20\n",
            "25/25 [==============================] - 1s 26ms/step - loss: 0.0041\n",
            "Epoch 13/20\n",
            "25/25 [==============================] - 1s 27ms/step - loss: 0.0039\n",
            "Epoch 14/20\n",
            "25/25 [==============================] - 1s 26ms/step - loss: 0.0036\n",
            "Epoch 15/20\n",
            "25/25 [==============================] - 1s 26ms/step - loss: 0.0034\n",
            "Epoch 16/20\n",
            "25/25 [==============================] - 1s 26ms/step - loss: 0.0031\n",
            "Epoch 17/20\n",
            "25/25 [==============================] - 1s 26ms/step - loss: 0.0029\n",
            "Epoch 18/20\n",
            "25/25 [==============================] - 1s 26ms/step - loss: 0.0028\n",
            "Epoch 19/20\n",
            "25/25 [==============================] - 1s 26ms/step - loss: 0.0027\n",
            "Epoch 20/20\n",
            "25/25 [==============================] - 0s 17ms/step - loss: 0.0026\n",
            "76/76 [==============================] - 0s 3ms/step\n",
            "???????????????????\n",
            "(2424, 128)\n",
            "1939\n",
            "485\n",
            "[LightGBM] [Info] Number of positive: 972, number of negative: 967\n",
            "[LightGBM] [Info] Auto-choosing col-wise multi-threading, the overhead of testing was 0.003538 seconds.\n",
            "You can set `force_col_wise=true` to remove the overhead.\n",
            "[LightGBM] [Info] Total Bins 32640\n",
            "[LightGBM] [Info] Number of data points in the train set: 1939, number of used features: 128\n",
            "[LightGBM] [Info] [binary:BoostFromScore]: pavg=0.501289 -> initscore=0.005157\n",
            "[LightGBM] [Info] Start training from score 0.005157\n",
            "AUTO-LGBM: 0.7711340206185567 0.7433962264150943 0.8208333333333333 0.7224489795918367 0.5456070232139177 0.8528061224489797 0.8428374707946511 0.7801980198019802\n",
            "1939\n",
            "485\n",
            "[LightGBM] [Info] Number of positive: 968, number of negative: 971\n",
            "[LightGBM] [Info] Auto-choosing col-wise multi-threading, the overhead of testing was 0.003146 seconds.\n",
            "You can set `force_col_wise=true` to remove the overhead.\n",
            "[LightGBM] [Info] Total Bins 32640\n",
            "[LightGBM] [Info] Number of data points in the train set: 1939, number of used features: 128\n",
            "[LightGBM] [Info] [binary:BoostFromScore]: pavg=0.499226 -> initscore=-0.003094\n",
            "[LightGBM] [Info] Start training from score -0.003094\n",
            "AUTO-LGBM: 0.8123711340206186 0.8174273858921162 0.8073770491803278 0.8174273858921162 0.6248044350724441 0.8814876539010951 0.8738204762735914 0.8123711340206186\n",
            "1939\n",
            "485\n",
            "[LightGBM] [Info] Number of positive: 952, number of negative: 987\n",
            "[LightGBM] [Info] Auto-choosing col-wise multi-threading, the overhead of testing was 0.003506 seconds.\n",
            "You can set `force_col_wise=true` to remove the overhead.\n",
            "[LightGBM] [Info] Total Bins 32640\n",
            "[LightGBM] [Info] Number of data points in the train set: 1939, number of used features: 128\n",
            "[LightGBM] [Info] [binary:BoostFromScore]: pavg=0.490975 -> initscore=-0.036105\n",
            "[LightGBM] [Info] Start training from score -0.036105\n",
            "AUTO-LGBM: 0.7958762886597938 0.8259109311740891 0.7846153846153846 0.8088888888888889 0.5920587832570082 0.8713504273504273 0.8651240936261426 0.8047337278106509\n",
            "1939\n",
            "485\n",
            "[LightGBM] [Info] Number of positive: 969, number of negative: 970\n",
            "[LightGBM] [Info] Auto-choosing col-wise multi-threading, the overhead of testing was 0.003608 seconds.\n",
            "You can set `force_col_wise=true` to remove the overhead.\n",
            "[LightGBM] [Info] Total Bins 32640\n",
            "[LightGBM] [Info] Number of data points in the train set: 1939, number of used features: 128\n",
            "[LightGBM] [Info] [binary:BoostFromScore]: pavg=0.499742 -> initscore=-0.001031\n",
            "[LightGBM] [Info] Start training from score -0.001031\n",
            "AUTO-LGBM: 0.7917525773195876 0.8227272727272728 0.7448559670781894 0.8388429752066116 0.5862265029494189 0.8744855967078189 0.8436718612853874 0.7818574514038877\n",
            "1940\n",
            "484\n",
            "[LightGBM] [Info] Number of positive: 987, number of negative: 953\n",
            "[LightGBM] [Info] Auto-choosing col-wise multi-threading, the overhead of testing was 0.003529 seconds.\n",
            "You can set `force_col_wise=true` to remove the overhead.\n",
            "[LightGBM] [Info] Total Bins 32640\n",
            "[LightGBM] [Info] Number of data points in the train set: 1940, number of used features: 128\n",
            "[LightGBM] [Info] [binary:BoostFromScore]: pavg=0.508763 -> initscore=0.035055\n",
            "[LightGBM] [Info] Start training from score 0.035055\n",
            "AUTO-LGBM: 0.8016528925619835 0.763265306122449 0.8311111111111111 0.7760617760617761 0.6057194490926531 0.8904332904332904 0.8720506275976815 0.7957446808510639\n"
          ]
        },
        {
          "output_type": "display_data",
          "data": {
            "text/plain": [
              "<Figure size 640x480 with 1 Axes>"
            ],
            "image/png": "[encoded data removed]"
          },
          "metadata": {}
        },
        {
          "output_type": "stream",
          "name": "stdout",
          "text": [
            "*******AUTO-LGBM*****\n",
            "mean performance of LGBM using raw feature\n",
            "[0.79455738 0.79454542 0.79775857 0.792734   0.59088324 0.87411262\n",
            " 0.85950091 0.794981  ]\n",
            "------------------------------------------------------------\n",
            "Mean-Accuracy= 0.7945573826361081 \n",
            " Mean-precision= 0.7945454244662044\n",
            "Mean-Sensitivity= 0.7977585690636693 \n",
            " Mean-Specificity= 0.7927340011282459\n",
            "Mean-MCC= 0.5908832387170884 \n",
            "Mean-auc_score= 0.8741126181683223\n",
            "Mean-Aupr-score= 0.8595009059154908 \n",
            "Mean_F1= 0.7949810027776403\n",
            "------------------------------------------------------------\n",
            "(2424, 128)\n"
          ]
        }
      ]
    },
    {
      "cell_type": "code",
      "source": [
        "def calculate_performace(test_num, pred_y,  labels): #pred_y = proba, labels = real_labels\n",
        "    tp =0\n",
        "    fp = 0\n",
        "    tn = 0\n",
        "    fn = 0\n",
        "    for index in range(test_num):\n",
        "        if labels[index] ==1:\n",
        "            if labels[index] == pred_y[index]:\n",
        "                tp = tp +1\n",
        "            else:\n",
        "                fn = fn + 1\n",
        "        else:\n",
        "            if labels[index] == pred_y[index]:\n",
        "                tn = tn +1\n",
        "            else:\n",
        "                fp = fp + 1\n",
        "\n",
        "    acc = float(tp + tn)/test_num\n",
        "\n",
        "    if tp == 0 and fp == 0:\n",
        "        precision = 0\n",
        "        MCC = 0\n",
        "        f1_score=0\n",
        "        sensitivity =  float(tp)/ (tp+fn)\n",
        "        specificity = float(tn)/(tn + fp)\n",
        "    else:\n",
        "        precision = float(tp)/(tp+ fp)\n",
        "        sensitivity = float(tp)/ (tp+fn)\n",
        "        specificity = float(tn)/(tn + fp)\n",
        "        MCC = float(tp*tn-fp*fn)/(np.sqrt((tp+fp)*(tp+fn)*(tn+fp)*(tn+fn)))\n",
        "        f1_score= float(2*tp)/((2*tp)+fp+fn)\n",
        "\n",
        "    return acc, precision, sensitivity, specificity, MCC,f1_score\n"
      ],
      "metadata": {
        "id": "nWMFpNP6Qcgt"
      },
      "execution_count": null,
      "outputs": []
    }
  ],
  "metadata": {
    "colab": {
      "provenance": [],
      "authorship_tag": "ABX9TyN+g3S8oq1QOQtsM2+dztQ1"
    },
    "kernelspec": {
      "display_name": "Python 3",
      "name": "python3"
    },
    "language_info": {
      "name": "python"
    }
  },
  "nbformat": 4,
  "nbformat_minor": 0
}